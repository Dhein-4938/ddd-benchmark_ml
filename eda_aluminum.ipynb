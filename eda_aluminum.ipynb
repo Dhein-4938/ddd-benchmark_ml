{
 "cells": [
  {
   "cell_type": "code",
   "id": "initial_id",
   "metadata": {
    "collapsed": true,
    "ExecuteTime": {
     "end_time": "2025-05-13T18:23:26.413942Z",
     "start_time": "2025-05-13T18:23:25.792672Z"
    }
   },
   "source": [
    "import numpy as np\n",
    "import pandas as pd\n",
    "import requests\n",
    "\n",
    "from construct_dataset import get_publisher_metadata_parallel"
   ],
   "outputs": [],
   "execution_count": 3
  },
  {
   "metadata": {
    "ExecuteTime": {
     "end_time": "2025-05-13T18:23:26.617095Z",
     "start_time": "2025-05-13T18:23:26.419345Z"
    }
   },
   "cell_type": "code",
   "source": [
    "df = pd.read_excel(\"data/aluminum/AL_CMU_benchmark.xlsx\")\n",
    "df.shape"
   ],
   "id": "ccd01bb62db52b2a",
   "outputs": [
    {
     "data": {
      "text/plain": [
       "(330, 67)"
      ]
     },
     "execution_count": 4,
     "metadata": {},
     "output_type": "execute_result"
    }
   ],
   "execution_count": 4
  },
  {
   "metadata": {
    "ExecuteTime": {
     "end_time": "2025-05-13T18:23:26.644818Z",
     "start_time": "2025-05-13T18:23:26.635688Z"
    }
   },
   "cell_type": "code",
   "source": [
    "df = df[df[\"Pfeiffer_no\"].notnull()]\n",
    "df"
   ],
   "id": "be173d2e26ec6291",
   "outputs": [
    {
     "data": {
      "text/plain": [
       "                Ref  double-checked         name    AA temper  size  dir  \\\n",
       "0      Kolahgar2016            True          1.5  1100    H18   1.5  NaN   \n",
       "1      Kolahgar2016            True            2  1100    H18     2  NaN   \n",
       "2      Kolahgar2016            True          2.5  1100    H18   2.5  NaN   \n",
       "3    Abdulstaar2013            True  As-received  1050    NaN   NaN  NaN   \n",
       "4            Fu2014            True         2A97   NaN     T4   NaN  NaN   \n",
       "..              ...             ...          ...   ...    ...   ...  ...   \n",
       "325        Khan2017            True  AA7475-T761  7475   T761   NaN  NaN   \n",
       "326  Chakherlou2009            True   AL 7075-T6  7075     T6   NaN  NaN   \n",
       "327       Singh2004            True       0.22Sc  8090     T8  50mm   LT   \n",
       "328       Singh2004            True       0.11Sc  8090     T8  50mm   LT   \n",
       "329       Singh2004            True          0Sc  8090     T8  50mm   LT   \n",
       "\n",
       "     YS [MPa]  UTS  [Mpa]  elong [%]  ...  Sr     V  Yb  \\\n",
       "0       180.2       191.3        4.8  ... NaN  0.01 NaN   \n",
       "1       177.2       188.3        5.6  ... NaN  0.01 NaN   \n",
       "2       165.3       175.3        6.2  ... NaN  0.01 NaN   \n",
       "3        20.0        72.0      120.0  ... NaN  0.01 NaN   \n",
       "4         NaN       443.5       18.5  ... NaN   NaN NaN   \n",
       "..        ...         ...        ...  ...  ..   ...  ..   \n",
       "325     430.0       468.0       13.0  ... NaN   NaN NaN   \n",
       "326     503.0       600.0        NaN  ... NaN   NaN NaN   \n",
       "327     397.0       460.0        5.4  ... NaN   NaN NaN   \n",
       "328     399.0       482.0        7.7  ... NaN   NaN NaN   \n",
       "329     381.0       454.0        9.2  ... NaN   NaN NaN   \n",
       "\n",
       "     Other properties / data  \\\n",
       "0                        NaN   \n",
       "1                        NaN   \n",
       "2                        NaN   \n",
       "3                        NaN   \n",
       "4                        NaN   \n",
       "..                       ...   \n",
       "325                      NaN   \n",
       "326                      NaN   \n",
       "327                      NaN   \n",
       "328                      NaN   \n",
       "329                      NaN   \n",
       "\n",
       "     Microstructure [None / OM / SEM / EBSD / TEM / APT]  \\\n",
       "0                                                  NaN     \n",
       "1                                                  NaN     \n",
       "2                                                  NaN     \n",
       "3                                                 EBSD     \n",
       "4                                              OM, XRD     \n",
       "..                                                 ...     \n",
       "325                                                NaN     \n",
       "326                                                NaN     \n",
       "327                                                NaN     \n",
       "328                                                NaN     \n",
       "329                                                NaN     \n",
       "\n",
       "                                   doi  Pfeiffer_no  series  who added  Notes  \n",
       "0            10.1007/s11661-016-3375-0            4    1000        NaN    NaN  \n",
       "1            10.1007/s11661-016-3375-0            5    1000        NaN    NaN  \n",
       "2            10.1007/s11661-016-3375-0            6    1000        NaN    NaN  \n",
       "3           10.1016/j.msea.2012.12.046            7    1000        NaN    NaN  \n",
       "4           10.1016/j.msea.2014.08.038           34    2000        NaN    NaN  \n",
       "..                                 ...          ...     ...        ...    ...  \n",
       "325      10.1016/j.jallcom.2016.11.389         1264    7000        NaN    NaN  \n",
       "326  10.1016/j.engfailanal.2008.03.002         1269    7000        NaN    NaN  \n",
       "327   10.1016/j.scriptamat.2003.12.001         1274    8000        NaN    NaN  \n",
       "328   10.1016/j.scriptamat.2003.12.001         1275    8000        NaN    NaN  \n",
       "329   10.1016/j.scriptamat.2003.12.001         1276    8000        NaN    NaN  \n",
       "\n",
       "[330 rows x 67 columns]"
      ],
      "text/html": [
       "<div>\n",
       "<style scoped>\n",
       "    .dataframe tbody tr th:only-of-type {\n",
       "        vertical-align: middle;\n",
       "    }\n",
       "\n",
       "    .dataframe tbody tr th {\n",
       "        vertical-align: top;\n",
       "    }\n",
       "\n",
       "    .dataframe thead th {\n",
       "        text-align: right;\n",
       "    }\n",
       "</style>\n",
       "<table border=\"1\" class=\"dataframe\">\n",
       "  <thead>\n",
       "    <tr style=\"text-align: right;\">\n",
       "      <th></th>\n",
       "      <th>Ref</th>\n",
       "      <th>double-checked</th>\n",
       "      <th>name</th>\n",
       "      <th>AA</th>\n",
       "      <th>temper</th>\n",
       "      <th>size</th>\n",
       "      <th>dir</th>\n",
       "      <th>YS [MPa]</th>\n",
       "      <th>UTS  [Mpa]</th>\n",
       "      <th>elong [%]</th>\n",
       "      <th>...</th>\n",
       "      <th>Sr</th>\n",
       "      <th>V</th>\n",
       "      <th>Yb</th>\n",
       "      <th>Other properties / data</th>\n",
       "      <th>Microstructure [None / OM / SEM / EBSD / TEM / APT]</th>\n",
       "      <th>doi</th>\n",
       "      <th>Pfeiffer_no</th>\n",
       "      <th>series</th>\n",
       "      <th>who added</th>\n",
       "      <th>Notes</th>\n",
       "    </tr>\n",
       "  </thead>\n",
       "  <tbody>\n",
       "    <tr>\n",
       "      <th>0</th>\n",
       "      <td>Kolahgar2016</td>\n",
       "      <td>True</td>\n",
       "      <td>1.5</td>\n",
       "      <td>1100</td>\n",
       "      <td>H18</td>\n",
       "      <td>1.5</td>\n",
       "      <td>NaN</td>\n",
       "      <td>180.2</td>\n",
       "      <td>191.3</td>\n",
       "      <td>4.8</td>\n",
       "      <td>...</td>\n",
       "      <td>NaN</td>\n",
       "      <td>0.01</td>\n",
       "      <td>NaN</td>\n",
       "      <td>NaN</td>\n",
       "      <td>NaN</td>\n",
       "      <td>10.1007/s11661-016-3375-0</td>\n",
       "      <td>4</td>\n",
       "      <td>1000</td>\n",
       "      <td>NaN</td>\n",
       "      <td>NaN</td>\n",
       "    </tr>\n",
       "    <tr>\n",
       "      <th>1</th>\n",
       "      <td>Kolahgar2016</td>\n",
       "      <td>True</td>\n",
       "      <td>2</td>\n",
       "      <td>1100</td>\n",
       "      <td>H18</td>\n",
       "      <td>2</td>\n",
       "      <td>NaN</td>\n",
       "      <td>177.2</td>\n",
       "      <td>188.3</td>\n",
       "      <td>5.6</td>\n",
       "      <td>...</td>\n",
       "      <td>NaN</td>\n",
       "      <td>0.01</td>\n",
       "      <td>NaN</td>\n",
       "      <td>NaN</td>\n",
       "      <td>NaN</td>\n",
       "      <td>10.1007/s11661-016-3375-0</td>\n",
       "      <td>5</td>\n",
       "      <td>1000</td>\n",
       "      <td>NaN</td>\n",
       "      <td>NaN</td>\n",
       "    </tr>\n",
       "    <tr>\n",
       "      <th>2</th>\n",
       "      <td>Kolahgar2016</td>\n",
       "      <td>True</td>\n",
       "      <td>2.5</td>\n",
       "      <td>1100</td>\n",
       "      <td>H18</td>\n",
       "      <td>2.5</td>\n",
       "      <td>NaN</td>\n",
       "      <td>165.3</td>\n",
       "      <td>175.3</td>\n",
       "      <td>6.2</td>\n",
       "      <td>...</td>\n",
       "      <td>NaN</td>\n",
       "      <td>0.01</td>\n",
       "      <td>NaN</td>\n",
       "      <td>NaN</td>\n",
       "      <td>NaN</td>\n",
       "      <td>10.1007/s11661-016-3375-0</td>\n",
       "      <td>6</td>\n",
       "      <td>1000</td>\n",
       "      <td>NaN</td>\n",
       "      <td>NaN</td>\n",
       "    </tr>\n",
       "    <tr>\n",
       "      <th>3</th>\n",
       "      <td>Abdulstaar2013</td>\n",
       "      <td>True</td>\n",
       "      <td>As-received</td>\n",
       "      <td>1050</td>\n",
       "      <td>NaN</td>\n",
       "      <td>NaN</td>\n",
       "      <td>NaN</td>\n",
       "      <td>20.0</td>\n",
       "      <td>72.0</td>\n",
       "      <td>120.0</td>\n",
       "      <td>...</td>\n",
       "      <td>NaN</td>\n",
       "      <td>0.01</td>\n",
       "      <td>NaN</td>\n",
       "      <td>NaN</td>\n",
       "      <td>EBSD</td>\n",
       "      <td>10.1016/j.msea.2012.12.046</td>\n",
       "      <td>7</td>\n",
       "      <td>1000</td>\n",
       "      <td>NaN</td>\n",
       "      <td>NaN</td>\n",
       "    </tr>\n",
       "    <tr>\n",
       "      <th>4</th>\n",
       "      <td>Fu2014</td>\n",
       "      <td>True</td>\n",
       "      <td>2A97</td>\n",
       "      <td>NaN</td>\n",
       "      <td>T4</td>\n",
       "      <td>NaN</td>\n",
       "      <td>NaN</td>\n",
       "      <td>NaN</td>\n",
       "      <td>443.5</td>\n",
       "      <td>18.5</td>\n",
       "      <td>...</td>\n",
       "      <td>NaN</td>\n",
       "      <td>NaN</td>\n",
       "      <td>NaN</td>\n",
       "      <td>NaN</td>\n",
       "      <td>OM, XRD</td>\n",
       "      <td>10.1016/j.msea.2014.08.038</td>\n",
       "      <td>34</td>\n",
       "      <td>2000</td>\n",
       "      <td>NaN</td>\n",
       "      <td>NaN</td>\n",
       "    </tr>\n",
       "    <tr>\n",
       "      <th>...</th>\n",
       "      <td>...</td>\n",
       "      <td>...</td>\n",
       "      <td>...</td>\n",
       "      <td>...</td>\n",
       "      <td>...</td>\n",
       "      <td>...</td>\n",
       "      <td>...</td>\n",
       "      <td>...</td>\n",
       "      <td>...</td>\n",
       "      <td>...</td>\n",
       "      <td>...</td>\n",
       "      <td>...</td>\n",
       "      <td>...</td>\n",
       "      <td>...</td>\n",
       "      <td>...</td>\n",
       "      <td>...</td>\n",
       "      <td>...</td>\n",
       "      <td>...</td>\n",
       "      <td>...</td>\n",
       "      <td>...</td>\n",
       "      <td>...</td>\n",
       "    </tr>\n",
       "    <tr>\n",
       "      <th>325</th>\n",
       "      <td>Khan2017</td>\n",
       "      <td>True</td>\n",
       "      <td>AA7475-T761</td>\n",
       "      <td>7475</td>\n",
       "      <td>T761</td>\n",
       "      <td>NaN</td>\n",
       "      <td>NaN</td>\n",
       "      <td>430.0</td>\n",
       "      <td>468.0</td>\n",
       "      <td>13.0</td>\n",
       "      <td>...</td>\n",
       "      <td>NaN</td>\n",
       "      <td>NaN</td>\n",
       "      <td>NaN</td>\n",
       "      <td>NaN</td>\n",
       "      <td>NaN</td>\n",
       "      <td>10.1016/j.jallcom.2016.11.389</td>\n",
       "      <td>1264</td>\n",
       "      <td>7000</td>\n",
       "      <td>NaN</td>\n",
       "      <td>NaN</td>\n",
       "    </tr>\n",
       "    <tr>\n",
       "      <th>326</th>\n",
       "      <td>Chakherlou2009</td>\n",
       "      <td>True</td>\n",
       "      <td>AL 7075-T6</td>\n",
       "      <td>7075</td>\n",
       "      <td>T6</td>\n",
       "      <td>NaN</td>\n",
       "      <td>NaN</td>\n",
       "      <td>503.0</td>\n",
       "      <td>600.0</td>\n",
       "      <td>NaN</td>\n",
       "      <td>...</td>\n",
       "      <td>NaN</td>\n",
       "      <td>NaN</td>\n",
       "      <td>NaN</td>\n",
       "      <td>NaN</td>\n",
       "      <td>NaN</td>\n",
       "      <td>10.1016/j.engfailanal.2008.03.002</td>\n",
       "      <td>1269</td>\n",
       "      <td>7000</td>\n",
       "      <td>NaN</td>\n",
       "      <td>NaN</td>\n",
       "    </tr>\n",
       "    <tr>\n",
       "      <th>327</th>\n",
       "      <td>Singh2004</td>\n",
       "      <td>True</td>\n",
       "      <td>0.22Sc</td>\n",
       "      <td>8090</td>\n",
       "      <td>T8</td>\n",
       "      <td>50mm</td>\n",
       "      <td>LT</td>\n",
       "      <td>397.0</td>\n",
       "      <td>460.0</td>\n",
       "      <td>5.4</td>\n",
       "      <td>...</td>\n",
       "      <td>NaN</td>\n",
       "      <td>NaN</td>\n",
       "      <td>NaN</td>\n",
       "      <td>NaN</td>\n",
       "      <td>NaN</td>\n",
       "      <td>10.1016/j.scriptamat.2003.12.001</td>\n",
       "      <td>1274</td>\n",
       "      <td>8000</td>\n",
       "      <td>NaN</td>\n",
       "      <td>NaN</td>\n",
       "    </tr>\n",
       "    <tr>\n",
       "      <th>328</th>\n",
       "      <td>Singh2004</td>\n",
       "      <td>True</td>\n",
       "      <td>0.11Sc</td>\n",
       "      <td>8090</td>\n",
       "      <td>T8</td>\n",
       "      <td>50mm</td>\n",
       "      <td>LT</td>\n",
       "      <td>399.0</td>\n",
       "      <td>482.0</td>\n",
       "      <td>7.7</td>\n",
       "      <td>...</td>\n",
       "      <td>NaN</td>\n",
       "      <td>NaN</td>\n",
       "      <td>NaN</td>\n",
       "      <td>NaN</td>\n",
       "      <td>NaN</td>\n",
       "      <td>10.1016/j.scriptamat.2003.12.001</td>\n",
       "      <td>1275</td>\n",
       "      <td>8000</td>\n",
       "      <td>NaN</td>\n",
       "      <td>NaN</td>\n",
       "    </tr>\n",
       "    <tr>\n",
       "      <th>329</th>\n",
       "      <td>Singh2004</td>\n",
       "      <td>True</td>\n",
       "      <td>0Sc</td>\n",
       "      <td>8090</td>\n",
       "      <td>T8</td>\n",
       "      <td>50mm</td>\n",
       "      <td>LT</td>\n",
       "      <td>381.0</td>\n",
       "      <td>454.0</td>\n",
       "      <td>9.2</td>\n",
       "      <td>...</td>\n",
       "      <td>NaN</td>\n",
       "      <td>NaN</td>\n",
       "      <td>NaN</td>\n",
       "      <td>NaN</td>\n",
       "      <td>NaN</td>\n",
       "      <td>10.1016/j.scriptamat.2003.12.001</td>\n",
       "      <td>1276</td>\n",
       "      <td>8000</td>\n",
       "      <td>NaN</td>\n",
       "      <td>NaN</td>\n",
       "    </tr>\n",
       "  </tbody>\n",
       "</table>\n",
       "<p>330 rows × 67 columns</p>\n",
       "</div>"
      ]
     },
     "execution_count": 5,
     "metadata": {},
     "output_type": "execute_result"
    }
   ],
   "execution_count": 5
  },
  {
   "metadata": {
    "ExecuteTime": {
     "end_time": "2025-05-13T18:23:26.682436Z",
     "start_time": "2025-05-13T18:23:26.679110Z"
    }
   },
   "cell_type": "code",
   "source": "len(df[df[\"double-checked\"]==1.0][\"doi\"].unique())",
   "id": "4a9ca85cf4c6a708",
   "outputs": [
    {
     "data": {
      "text/plain": [
       "154"
      ]
     },
     "execution_count": 6,
     "metadata": {},
     "output_type": "execute_result"
    }
   ],
   "execution_count": 6
  },
  {
   "metadata": {
    "ExecuteTime": {
     "end_time": "2025-05-13T18:23:37.866599Z",
     "start_time": "2025-05-13T18:23:26.712986Z"
    }
   },
   "cell_type": "code",
   "source": "meta_df = get_publisher_metadata_parallel(df[\"doi\"].unique())",
   "id": "ab1b824a4d58f62d",
   "outputs": [
    {
     "name": "stderr",
     "output_type": "stream",
     "text": [
      "100%|██████████| 154/154 [00:00<00:00, 3135547.65it/s]\n"
     ]
    }
   ],
   "execution_count": 7
  },
  {
   "metadata": {
    "ExecuteTime": {
     "end_time": "2025-05-13T18:23:37.878036Z",
     "start_time": "2025-05-13T18:23:37.873116Z"
    }
   },
   "cell_type": "code",
   "source": "meta_df[\"publisher\"].value_counts()",
   "id": "5a0ee3e7a38a0785",
   "outputs": [
    {
     "data": {
      "text/plain": [
       "publisher\n",
       "Elsevier BV                                132\n",
       "Springer Science and Business Media LLC     22\n",
       "Name: count, dtype: int64"
      ]
     },
     "execution_count": 8,
     "metadata": {},
     "output_type": "execute_result"
    }
   ],
   "execution_count": 8
  },
  {
   "metadata": {
    "ExecuteTime": {
     "end_time": "2025-05-13T18:23:37.909760Z",
     "start_time": "2025-05-13T18:23:37.905099Z"
    }
   },
   "cell_type": "code",
   "source": "joint_al_df = df.merge(meta_df, on=\"doi\")",
   "id": "659cc3a37e57ba4f",
   "outputs": [],
   "execution_count": 9
  },
  {
   "metadata": {
    "ExecuteTime": {
     "end_time": "2025-05-13T18:23:37.949802Z",
     "start_time": "2025-05-13T18:23:37.941687Z"
    }
   },
   "cell_type": "code",
   "source": "joint_al_df.to_csv(\"data/aluminum/al_data.csv\", index=False)",
   "id": "5078f045ad9ab6bf",
   "outputs": [],
   "execution_count": 10
  },
  {
   "metadata": {
    "ExecuteTime": {
     "end_time": "2025-05-13T18:23:37.989984Z",
     "start_time": "2025-05-13T18:23:37.986714Z"
    }
   },
   "cell_type": "code",
   "source": "joint_al_df[joint_al_df[\"publisher\"] == \"Springer Science and Business Media LLC\"].shape",
   "id": "c26bbc26c8e817d1",
   "outputs": [
    {
     "data": {
      "text/plain": [
       "(35, 73)"
      ]
     },
     "execution_count": 11,
     "metadata": {},
     "output_type": "execute_result"
    }
   ],
   "execution_count": 11
  },
  {
   "metadata": {
    "ExecuteTime": {
     "end_time": "2025-05-13T18:23:38.036338Z",
     "start_time": "2025-05-13T18:23:38.032513Z"
    }
   },
   "cell_type": "code",
   "source": "joint_al_df.notnull().sum()",
   "id": "dd966aea4dcc97fa",
   "outputs": [
    {
     "data": {
      "text/plain": [
       "Ref                    328\n",
       "double-checked         330\n",
       "name                   323\n",
       "AA                     226\n",
       "temper                 251\n",
       "                      ... \n",
       "journal                330\n",
       "publisher              330\n",
       "included_in_dataset    330\n",
       "pdf                    330\n",
       "xml                    330\n",
       "Length: 73, dtype: int64"
      ]
     },
     "execution_count": 12,
     "metadata": {},
     "output_type": "execute_result"
    }
   ],
   "execution_count": 12
  },
  {
   "metadata": {
    "ExecuteTime": {
     "end_time": "2025-05-13T18:23:38.073830Z",
     "start_time": "2025-05-13T18:23:38.070317Z"
    }
   },
   "cell_type": "code",
   "source": "joint_al_df[\"Hardness location\"].fillna(\"missing\").value_counts()",
   "id": "68d1576631663888",
   "outputs": [
    {
     "data": {
      "text/plain": [
       "Hardness location\n",
       "missing    240\n",
       "table       53\n",
       "plot        29\n",
       "text         8\n",
       "Name: count, dtype: int64"
      ]
     },
     "execution_count": 13,
     "metadata": {},
     "output_type": "execute_result"
    }
   ],
   "execution_count": 13
  },
  {
   "metadata": {
    "ExecuteTime": {
     "end_time": "2025-05-13T18:23:38.115335Z",
     "start_time": "2025-05-13T18:23:38.111622Z"
    }
   },
   "cell_type": "code",
   "source": "joint_al_df[\"Has HT [True / False]\"].value_counts()",
   "id": "dd0def4c11d939e5",
   "outputs": [
    {
     "data": {
      "text/plain": [
       "Has HT [True / False]\n",
       "True     213\n",
       "False    117\n",
       "Name: count, dtype: int64"
      ]
     },
     "execution_count": 14,
     "metadata": {},
     "output_type": "execute_result"
    }
   ],
   "execution_count": 14
  },
  {
   "metadata": {
    "ExecuteTime": {
     "end_time": "2025-05-13T18:23:38.233675Z",
     "start_time": "2025-05-13T18:23:38.230399Z"
    }
   },
   "cell_type": "code",
   "source": "joint_al_df[\"Has comp [True / False / nominal]\"].value_counts()",
   "id": "148ab03276850e44",
   "outputs": [
    {
     "data": {
      "text/plain": [
       "Has comp [True / False / nominal]\n",
       "True       256\n",
       "nominal     36\n",
       "False       35\n",
       "Nominal      3\n",
       "Name: count, dtype: int64"
      ]
     },
     "execution_count": 15,
     "metadata": {},
     "output_type": "execute_result"
    }
   ],
   "execution_count": 15
  },
  {
   "metadata": {
    "ExecuteTime": {
     "end_time": "2025-05-13T18:23:38.273079Z",
     "start_time": "2025-05-13T18:23:38.269443Z"
    }
   },
   "cell_type": "code",
   "source": "meta_df = pd.read_csv(\"data/aluminum/publisher_metadata.csv\")",
   "id": "45db5f2070139438",
   "outputs": [],
   "execution_count": 16
  },
  {
   "metadata": {
    "ExecuteTime": {
     "end_time": "2025-05-13T18:23:38.401112Z",
     "start_time": "2025-05-13T18:23:38.396992Z"
    }
   },
   "cell_type": "code",
   "source": [
    "rng = np.random.default_rng(8675309)\n",
    "\n",
    "xml_train_dois = rng.choice(meta_df[meta_df[\"xml\"]][\"doi\"].unique(), 3)\n",
    "pdf_train_dois = rng.choice(meta_df[meta_df[\"pdf\"]][\"doi\"].unique(), 3)"
   ],
   "id": "884128e692060acf",
   "outputs": [],
   "execution_count": 17
  },
  {
   "metadata": {
    "ExecuteTime": {
     "end_time": "2025-05-13T18:23:38.438843Z",
     "start_time": "2025-05-13T18:23:38.436059Z"
    }
   },
   "cell_type": "code",
   "source": "xml_train_dois",
   "id": "1cfd9cd30d7aad81",
   "outputs": [
    {
     "data": {
      "text/plain": [
       "array(['10.1016/j.scriptamat.2004.07.020',\n",
       "       '10.1016/j.engfailanal.2010.08.007',\n",
       "       '10.1016/j.jallcom.2013.08.214'], dtype=object)"
      ]
     },
     "execution_count": 18,
     "metadata": {},
     "output_type": "execute_result"
    }
   ],
   "execution_count": 18
  },
  {
   "metadata": {
    "ExecuteTime": {
     "end_time": "2025-05-13T18:23:38.531927Z",
     "start_time": "2025-05-13T18:23:38.530555Z"
    }
   },
   "cell_type": "code",
   "source": "",
   "id": "c1ed28ec8cc904d4",
   "outputs": [],
   "execution_count": null
  },
  {
   "metadata": {
    "ExecuteTime": {
     "end_time": "2025-05-13T18:23:38.596313Z",
     "start_time": "2025-05-13T18:23:38.592926Z"
    }
   },
   "cell_type": "code",
   "source": "pdf_train_dois",
   "id": "61b354bebca8cc96",
   "outputs": [
    {
     "data": {
      "text/plain": [
       "array(['10.1007/s11661-010-0395-z', '10.1007/s11661-008-9739-3',\n",
       "       '10.1007/s11837-016-1896-z'], dtype=object)"
      ]
     },
     "execution_count": 19,
     "metadata": {},
     "output_type": "execute_result"
    }
   ],
   "execution_count": 19
  },
  {
   "metadata": {
    "ExecuteTime": {
     "end_time": "2025-05-13T18:23:38.721717Z",
     "start_time": "2025-05-13T18:23:38.718276Z"
    }
   },
   "cell_type": "code",
   "source": "meta_df[\"doi\"].unique()",
   "id": "11e4bf7c9b839bed",
   "outputs": [
    {
     "data": {
      "text/plain": [
       "array(['10.1007/s11661-016-3375-0', '10.1016/j.msea.2012.12.046',\n",
       "       '10.1016/j.msea.2014.08.038', '10.1016/j.jmatprotec.2017.04.024',\n",
       "       '10.1007/s11661-013-1778-8', '10.1007/s11661-016-3807-x',\n",
       "       '10.1016/j.msea.2008.03.017', '10.1016/j.matlet.2013.08.093',\n",
       "       '10.1016/j.jmatprotec.2008.04.020', '10.1007/s11663-016-0611-3',\n",
       "       '10.1016/j.msea.2016.12.087', '10.1007/s11661-010-0377-1',\n",
       "       '10.1007/s10853-009-3735-x', '10.1016/j.matdes.2015.08.003',\n",
       "       '10.1007/s11661-014-2207-3', '10.1016/j.matdes.2015.06.044',\n",
       "       '10.1016/j.msea.2009.04.049', '10.1007/s11661-008-9739-3',\n",
       "       '10.1016/j.msea.2011.08.015', '10.1016/j.msea.2012.07.064',\n",
       "       '10.1016/j.msea.2010.12.045', '10.1016/j.scriptamat.2011.12.011',\n",
       "       '10.1016/j.jmatprotec.2007.08.070',\n",
       "       '10.1016/j.scriptamat.2006.04.013', '10.1016/j.matdes.2007.11.005',\n",
       "       '10.1016/j.msea.2006.04.087', '10.1007/s11661-016-3332-y',\n",
       "       '10.1016/j.matdes.2016.08.004', '10.1016/s0921-5093(00)01912-2',\n",
       "       '10.1016/j.msea.2014.12.002', '10.1016/j.msea.2011.11.025',\n",
       "       '10.1016/j.msea.2014.10.029', '10.1016/j.msea.2013.08.001',\n",
       "       '10.1016/j.msea.2007.02.100', '10.1016/j.msea.2015.04.104',\n",
       "       '10.1016/j.msea.2014.12.026', '10.1016/j.msea.2004.10.014',\n",
       "       '10.1016/j.msea.2008.07.033', '10.1016/j.msea.2006.07.169',\n",
       "       '10.1016/j.jmatprotec.2016.06.021',\n",
       "       '10.1016/s0924-0136(03)00806-9', '10.1007/s11665-011-0060-8',\n",
       "       '10.1007/s11665-014-0875-1', '10.1016/j.jmatprotec.2017.12.042',\n",
       "       '10.1016/j.jmatprotec.2018.01.010',\n",
       "       '10.1016/j.commatsci.2010.06.018', '10.1016/j.jallcom.2016.05.247',\n",
       "       '10.1016/j.jallcom.2016.05.317', '10.1016/j.jallcom.2009.10.185',\n",
       "       '10.1016/j.jallcom.2013.09.202', '10.1016/j.jallcom.2017.12.045',\n",
       "       '10.1016/j.jallcom.2013.08.214', '10.1016/j.corsci.2011.09.021',\n",
       "       '10.1016/s0013-7944(98)00101-5',\n",
       "       '10.1016/j.engfracmech.2011.05.005',\n",
       "       '10.1016/j.engfracmech.2010.08.021',\n",
       "       '10.1016/j.engfracmech.2007.04.013',\n",
       "       '10.1016/j.engfailanal.2010.08.007',\n",
       "       '10.1016/j.engfailanal.2008.10.016', '10.1016/j.msea.2018.07.003',\n",
       "       '10.1007/s11661-014-2494-8', '10.1016/j.msea.2012.12.029',\n",
       "       '10.1016/j.actamat.2011.10.029', '10.1007/s11661-014-2515-7',\n",
       "       '10.1016/j.msea.2015.03.021', '10.1016/j.msea.2013.03.084',\n",
       "       '10.1016/j.msea.2014.05.059', '10.1016/j.msea.2004.08.056',\n",
       "       '10.1016/j.msea.2011.11.026', '10.1016/j.msea.2011.01.041',\n",
       "       '10.1016/j.msea.2014.01.009', '10.1016/j.jmatprotec.2016.01.030',\n",
       "       '10.1016/j.jallcom.2017.04.084', '10.1016/j.wear.2007.05.011',\n",
       "       '10.1016/j.engfracmech.2013.11.016', '10.1007/s11837-016-1896-z',\n",
       "       '10.1016/j.msea.2016.12.107', '10.1016/j.msea.2016.04.029',\n",
       "       '10.1016/j.jmatprotec.2017.07.031',\n",
       "       '10.1016/j.matchar.2018.04.045', '10.1016/j.actamat.2010.01.037',\n",
       "       '10.1007/s11661-012-1121-9', '10.1016/j.jmatprotec.2012.02.008',\n",
       "       '10.1016/j.msea.2012.06.076', '10.1016/j.actamat.2007.01.006',\n",
       "       '10.1016/j.optlastec.2012.06.019', '10.1007/s10853-010-4609-y',\n",
       "       '10.1016/j.jmatprotec.2017.01.029', '10.1007/978-3-319-00765-6_8',\n",
       "       '10.1016/j.solmat.2017.06.063', '10.1016/j.apsusc.2006.02.060',\n",
       "       '10.1016/j.msea.2015.06.036', '10.1016/s0921-5093(02)00456-2',\n",
       "       '10.1016/s0921-5093(00)00805-4', '10.1016/j.msea.2016.10.027',\n",
       "       '10.1016/j.msea.2015.06.046', '10.1016/j.msea.2015.07.059',\n",
       "       '10.1016/j.msea.2012.09.044', '10.1016/j.msea.2014.10.012',\n",
       "       '10.1016/j.msea.2012.01.125', '10.1016/j.jmatprotec.2014.08.016',\n",
       "       '10.1016/j.jmatprotec.2017.09.034',\n",
       "       '10.1016/j.jmatprotec.2017.11.031',\n",
       "       '10.1016/j.matchar.2007.09.006', '10.1016/j.wear.2012.07.026',\n",
       "       '10.1016/j.engfracmech.2013.01.011',\n",
       "       '10.1016/j.engfracmech.2017.11.006',\n",
       "       '10.1016/j.matdes.2016.02.011', '10.1007/s11661-010-0395-z',\n",
       "       '10.1016/j.msea.2014.02.036', '10.1016/j.actamat.2006.11.009',\n",
       "       '10.1016/j.scriptamat.2004.07.020',\n",
       "       '10.1016/j.ijmecsci.2015.10.004', '10.1016/j.msea.2007.10.083',\n",
       "       '10.1016/j.jmatprotec.2006.11.047', '10.1016/j.msea.2008.07.028',\n",
       "       '10.1016/j.mseb.2012.04.008', '10.1007/s10853-007-1604-z',\n",
       "       '10.1016/j.msea.2014.06.037', '10.1016/j.msea.2004.02.052',\n",
       "       '10.1016/j.jmatprotec.2016.05.022',\n",
       "       '10.1016/j.actamat.2004.06.023', '10.1016/j.matdes.2017.07.013',\n",
       "       '10.1016/j.msea.2014.09.094', '10.1016/j.msea.2009.08.032',\n",
       "       '10.1016/j.msea.2013.09.005', '10.1016/j.msea.2014.05.021',\n",
       "       '10.1016/j.msea.2016.03.131', '10.1016/s0921-5093(02)00158-2',\n",
       "       '10.1007/s11665-014-0936-5', '10.1016/j.msea.2017.12.067',\n",
       "       '10.1016/j.msea.2018.01.040', '10.1016/j.jallcom.2012.03.108',\n",
       "       '10.1016/j.jallcom.2018.05.085', '10.1016/j.matchar.2005.04.007',\n",
       "       '10.1016/j.matchar.2006.03.003', '10.1016/j.matchar.2018.04.029',\n",
       "       '10.1016/j.engfracmech.2006.12.031',\n",
       "       '10.1016/j.jmatprotec.2018.06.022', '10.1007/s11661-009-0069-x',\n",
       "       '10.1016/j.scriptamat.2008.11.032',\n",
       "       '10.1016/j.jmatprotec.2006.03.192', '10.1016/j.matdes.2015.08.050',\n",
       "       '10.1007/s11661-011-1044-x', '10.1016/j.matdes.2015.05.074',\n",
       "       '10.1016/j.msea.2015.11.075', '10.1016/j.msea.2004.01.134',\n",
       "       '10.1016/j.msea.2015.06.023', '10.1016/j.msea.2007.06.047',\n",
       "       '10.1016/j.msea.2007.07.048', '10.1016/j.jmatprotec.2007.12.036',\n",
       "       '10.1016/j.jallcom.2016.11.389',\n",
       "       '10.1016/j.engfailanal.2008.03.002',\n",
       "       '10.1016/j.scriptamat.2003.12.001'], dtype=object)"
      ]
     },
     "execution_count": 20,
     "metadata": {},
     "output_type": "execute_result"
    }
   ],
   "execution_count": 20
  },
  {
   "metadata": {
    "ExecuteTime": {
     "end_time": "2025-05-13T18:24:03.436755Z",
     "start_time": "2025-05-13T18:24:03.434243Z"
    }
   },
   "cell_type": "code",
   "source": "(meta_df[\"pdf\"] | meta_df[\"xml\"]).sum()",
   "id": "252611054ccb2c72",
   "outputs": [
    {
     "data": {
      "text/plain": [
       "np.int64(152)"
      ]
     },
     "execution_count": 23,
     "metadata": {},
     "output_type": "execute_result"
    }
   ],
   "execution_count": 23
  },
  {
   "metadata": {
    "ExecuteTime": {
     "end_time": "2025-05-13T18:24:55.610240Z",
     "start_time": "2025-05-13T18:24:55.597772Z"
    }
   },
   "cell_type": "code",
   "source": "meta_df[\"pdf\"].sum()",
   "id": "11ed21a4b8f7891e",
   "outputs": [
    {
     "data": {
      "text/plain": [
       "np.int64(22)"
      ]
     },
     "execution_count": 24,
     "metadata": {},
     "output_type": "execute_result"
    }
   ],
   "execution_count": 24
  },
  {
   "metadata": {
    "ExecuteTime": {
     "end_time": "2025-05-13T18:25:14.148439Z",
     "start_time": "2025-05-13T18:25:14.146039Z"
    }
   },
   "cell_type": "code",
   "source": "meta_df[\"xml\"].sum()",
   "id": "2864e6e36261781a",
   "outputs": [
    {
     "data": {
      "text/plain": [
       "np.int64(151)"
      ]
     },
     "execution_count": 25,
     "metadata": {},
     "output_type": "execute_result"
    }
   ],
   "execution_count": 25
  },
  {
   "metadata": {
    "ExecuteTime": {
     "end_time": "2025-05-13T18:25:33.336466Z",
     "start_time": "2025-05-13T18:25:33.333629Z"
    }
   },
   "cell_type": "code",
   "source": "(meta_df[\"pdf\"] & meta_df[\"xml\"]).sum()",
   "id": "e00a75a20d5e4ae6",
   "outputs": [
    {
     "data": {
      "text/plain": [
       "np.int64(21)"
      ]
     },
     "execution_count": 26,
     "metadata": {},
     "output_type": "execute_result"
    }
   ],
   "execution_count": 26
  },
  {
   "metadata": {
    "ExecuteTime": {
     "end_time": "2025-05-13T18:26:08.391717Z",
     "start_time": "2025-05-13T18:26:08.389064Z"
    }
   },
   "cell_type": "code",
   "source": "joint_al_df.shape",
   "id": "80fdc8a7f685be45",
   "outputs": [
    {
     "data": {
      "text/plain": [
       "(330, 73)"
      ]
     },
     "execution_count": 27,
     "metadata": {},
     "output_type": "execute_result"
    }
   ],
   "execution_count": 27
  },
  {
   "metadata": {
    "ExecuteTime": {
     "end_time": "2025-05-13T18:26:46.160229Z",
     "start_time": "2025-05-13T18:26:46.154731Z"
    }
   },
   "cell_type": "code",
   "source": [
    "from data.aluminum.constraints import columns_to_predict\n",
    "\n",
    "joint_al_df[columns_to_predict].notnull().sum().sum()"
   ],
   "id": "ce4ba21a9429d68b",
   "outputs": [
    {
     "data": {
      "text/plain": [
       "np.int64(3806)"
      ]
     },
     "execution_count": 29,
     "metadata": {},
     "output_type": "execute_result"
    }
   ],
   "execution_count": 29
  },
  {
   "metadata": {
    "ExecuteTime": {
     "end_time": "2025-05-13T18:27:33.155599Z",
     "start_time": "2025-05-13T18:27:33.152066Z"
    }
   },
   "cell_type": "code",
   "source": "(joint_al_df[columns_to_predict].shape[0] * joint_al_df[columns_to_predict].shape[1])",
   "id": "ce6e042e64d167a1",
   "outputs": [
    {
     "data": {
      "text/plain": [
       "12210"
      ]
     },
     "execution_count": 31,
     "metadata": {},
     "output_type": "execute_result"
    }
   ],
   "execution_count": 31
  },
  {
   "metadata": {},
   "cell_type": "code",
   "outputs": [],
   "execution_count": null,
   "source": "",
   "id": "ae1f44465934e3ad"
  }
 ],
 "metadata": {
  "kernelspec": {
   "display_name": "Python 3",
   "language": "python",
   "name": "python3"
  },
  "language_info": {
   "codemirror_mode": {
    "name": "ipython",
    "version": 2
   },
   "file_extension": ".py",
   "mimetype": "text/x-python",
   "name": "python",
   "nbconvert_exporter": "python",
   "pygments_lexer": "ipython2",
   "version": "2.7.6"
  }
 },
 "nbformat": 4,
 "nbformat_minor": 5
}
