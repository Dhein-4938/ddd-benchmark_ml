{
 "cells": [
  {
   "cell_type": "code",
   "execution_count": null,
   "metadata": {},
   "outputs": [],
   "source": [
    "%load_ext autoreload\n",
    "%autoreload 1\n",
    "\n",
    "import sys\n",
    "sys.path.insert(0, \"/data/tir/projects/tir6/strubell/jmilbaue/HTMAX/ddd-benchmark\")\n",
    "\n",
    "%aimport llm\n",
    "from llm import MolmoPredictor, LlamaVisionPredictor, OlmoPredictor, LlamaPredictor"
   ]
  },
  {
   "cell_type": "code",
   "execution_count": null,
   "metadata": {},
   "outputs": [
    {
     "name": "stderr",
     "output_type": "stream",
     "text": [
      "Loading checkpoint shards: 100%|██████████| 4/4 [04:04<00:00, 61.15s/it]\n"
     ]
    }
   ],
   "source": [
    "llm = LlamaPredictor()"
   ]
  },
  {
   "cell_type": "code",
   "execution_count": null,
   "metadata": {},
   "outputs": [
    {
     "name": "stderr",
     "output_type": "stream",
     "text": [
      "/home/jmilbaue/.software/miniconda3/envs/dddbench/lib/python3.10/site-packages/transformers/generation/configuration_utils.py:590: UserWarning: `do_sample` is set to `False`. However, `temperature` is set to `0.6` -- this flag is only used in sample-based generation modes. You should set `do_sample=True` or unset `temperature`.\n",
      "  warnings.warn(\n",
      "/home/jmilbaue/.software/miniconda3/envs/dddbench/lib/python3.10/site-packages/transformers/generation/configuration_utils.py:595: UserWarning: `do_sample` is set to `False`. However, `top_p` is set to `0.9` -- this flag is only used in sample-based generation modes. You should set `do_sample=True` or unset `top_p`.\n",
      "  warnings.warn(\n",
      "Setting `pad_token_id` to `eos_token_id`:None for open-end generation.\n"
     ]
    },
    {
     "data": {
      "text/plain": [
       "\"Here is a short poem about a succulent plant:\\n\\nA succulent so fine and fair,\\nWith leaves that store water with care.\\nIts skin so thick, its stem so strong,\\nIt thrives in dryness, all day long.\\n\\nIts beauty lies in its simplicity,\\nA quiet strength, a gentle symmetry.\\nIt blooms with flowers, a vibrant hue,\\nA burst of color, for me and you.\\n\\nIn arid lands, it finds its home,\\nA resilient soul, that's never known.\\nTo wither away, or fade with time,\\nThis succulent, a true work of art, sublime.\""
      ]
     },
     "execution_count": 3,
     "metadata": {},
     "output_type": "execute_result"
    }
   ],
   "source": [
    "llm.predict_from_xml(\"write a short poem about a succulent plant\")"
   ]
  },
  {
   "cell_type": "code",
   "execution_count": null,
   "metadata": {},
   "outputs": [],
   "source": []
  }
 ],
 "metadata": {
  "kernelspec": {
   "display_name": "dddbench",
   "language": "python",
   "name": "python3"
  },
  "language_info": {
   "codemirror_mode": {
    "name": "ipython",
    "version": 3
   },
   "file_extension": ".py",
   "mimetype": "text/x-python",
   "name": "python",
   "nbconvert_exporter": "python",
   "pygments_lexer": "ipython3",
   "version": "3.10.16"
  }
 },
 "nbformat": 4,
 "nbformat_minor": 2
}
