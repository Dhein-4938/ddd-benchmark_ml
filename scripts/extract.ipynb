{
 "cells": [
  {
   "cell_type": "code",
   "execution_count": 7,
   "metadata": {},
   "outputs": [
    {
     "name": "stdout",
     "output_type": "stream",
     "text": [
      "The autoreload extension is already loaded. To reload it, use:\n",
      "  %reload_ext autoreload\n"
     ]
    }
   ],
   "source": [
    "%load_ext autoreload\n",
    "%autoreload 1\n",
    "\n",
    "import json\n",
    "from pathlib import Path\n",
    "from tqdm.notebook import tqdm\n",
    "import time\n",
    "import pandas as pd\n",
    "from collections import Counter\n",
    "import argparse\n",
    "\n",
    "import sys\n",
    "sys.path.insert(0, \"/data/tir/projects/tir6/strubell/jmilbaue/HTMAX/ddd-benchmark/src\") ### PATH TO THIS NOTEBOOK, YOU MUST EDIT THIS!\n",
    "\n",
    "%aimport llm\n",
    "from llm import OpenAI\n",
    "%aimport prompts\n",
    "from prompts import prompt_db\n",
    "%aimport prompting\n",
    "from prompting import build_prompt\n",
    "%aimport utils\n",
    "from utils import convert_temperature"
   ]
  },
  {
   "cell_type": "code",
   "execution_count": 8,
   "metadata": {},
   "outputs": [],
   "source": [
    "time_unit_key = 'Time unit [D/m/h]'\n",
    "temp_unit_key = 'Temp unit [C/K/F]'\n",
    "\n",
    "# Names of properties in the prompt\n",
    "properties = [\n",
    "    'Silicon',\n",
    "    'Germanium',\n",
    "    'Aluminum',\n",
    "    'OH',\n",
    "    'H2O',\n",
    "    'HF',\n",
    "    'SDA ratio',\n",
    "    'Boron',\n",
    "    'Time',\n",
    "    time_unit_key,\n",
    "    'Temp',\n",
    "    temp_unit_key,\n",
    "    'Extracted product',\n",
    "    'SDA Type'\n",
    "]\n",
    "\n",
    "# Remapping some of the names for the reference dataset\n",
    "map = {\n",
    "    \"Silicon\": \"Si\",\n",
    "    \"Germanium\": \"Ge\",\n",
    "    \"Aluminum\": \"Al\",\n",
    "    \"Boron\": \"B\",\n",
    "    \"Extracted product\": \"Extracted\",\n",
    "    \"SDA ratio\": \"SDA\",\n",
    "}"
   ]
  },
  {
   "cell_type": "code",
   "execution_count": 17,
   "metadata": {},
   "outputs": [],
   "source": [
    "def convert_df(df):\n",
    "    new_rows = []\n",
    "    for i, row in df.iterrows():\n",
    "        print(row)\n",
    "        new_row = {}\n",
    "        for k in row.keys():\n",
    "            if k in map:\n",
    "                new_row[map[k]] = row[k]\n",
    "            else:\n",
    "                new_row[k] = row[k]\n",
    "\n",
    "        time_unit = None\n",
    "        if time_unit_key in row:\n",
    "            if isinstance(row[time_unit_key], str):\n",
    "                time_unit = row[time_unit_key].lower()\n",
    "\n",
    "        time_value = None\n",
    "        if 'Time' in row:\n",
    "            if isinstance(row['Time'], str):\n",
    "                try:\n",
    "                    time_value = float(row['Time'])\n",
    "                except:\n",
    "                    time_value = None\n",
    "            elif isinstance(row['Time'], float):\n",
    "                time_value = row['Time']\n",
    "\n",
    "        if time_unit is None:\n",
    "            time_unit = 'h'\n",
    "        \n",
    "        new_time = None\n",
    "        if time_value is not None:\n",
    "            if 'd' in time_unit:\n",
    "                time_dilation = 24\n",
    "            if 'h' in time_unit:\n",
    "                time_dilation = 1\n",
    "            if 'm' in time_unit:\n",
    "                time_dilation = 1 / 60\n",
    "            new_time = time_value * time_dilation\n",
    "        \n",
    "        temp_unit = None\n",
    "        if temp_unit_key in row:\n",
    "            if isinstance(row[temp_unit_key], str):\n",
    "                temp_unit = row[temp_unit_key].lower()\n",
    "\n",
    "        temp_value = None\n",
    "        if 'Temp' in row:\n",
    "            if isinstance(row['Temp'], str):\n",
    "                try:\n",
    "                    temp_value = float(row['Temp'])\n",
    "                except:\n",
    "                    temp_value = None\n",
    "            elif isinstance(row['Temp'], float):\n",
    "                temp_value = row['Temp']\n",
    "\n",
    "        if temp_unit is None:\n",
    "            temp_unit = \"C\"\n",
    "\n",
    "        new_temp = None\n",
    "        if temp_value is not None:\n",
    "            new_temp = convert_temperature(float(row[\"Temp\"]), \"C\" if \"c\" in temp_unit else (\"F\" if \"f\" in temp_unit else \"K\"), \"C\")\n",
    "\n",
    "        new_row[\"Time\"] = new_time\n",
    "        new_row[\"Temp\"] = new_temp\n",
    "        new_rows.append(new_row)\n",
    "\n",
    "    new_df = pd.DataFrame(new_rows)[[\"Si\", \"Ge\", \"Al\", \"OH\", \"H2O\", \"HF\", \"SDA\", \"B\", \"Time\", \"Temp\", \"SDA Type\", \"Extracted\", \"source\", \"doc_processing_time\", \"total_response_chars\"]]\n",
    "    return new_df\n",
    "\n",
    "def get_responses(model, modal, author, keyfile, indir, ext):\n",
    "    keydata = json.load(open(keyfile))\n",
    "    oai_org = keydata['openai_org']\n",
    "    oai_project = keydata['openai_project']\n",
    "\n",
    "    if \"gpt\" in model:\n",
    "        llm = OpenAI(\"gpt-4o\", oai_org, oai_project)\n",
    "\n",
    "    if ext == \"png\":\n",
    "        prompt = build_prompt(model, modal, author, properties, prompt_db)\n",
    "\n",
    "    for f in tqdm(sorted(indir.glob(f\"*{ext}\")), desc=\"Processing documents\", position=0):\n",
    "        if ext == \"ml\":\n",
    "            with open(f) as fin:\n",
    "                xml_data = fin.read()\n",
    "                prompt = build_prompt(model, modal, author, properties, prompt_db, context=xml_data)\n",
    "\n",
    "        try:\n",
    "            start = time.time()\n",
    "            pbar = tqdm(desc=\"Streaming response characters\", position=1)\n",
    "            if ext == 'png':\n",
    "                response = llm(prompt, image_path=str(f), use_json=True, pbar=pbar)\n",
    "            else:\n",
    "                response = llm(prompt, use_json=True, pbar=pbar)\n",
    "            stop = time.time()\n",
    "            response['source'] = str(f.name)\n",
    "            yield {'response': response, 'time': stop-start}\n",
    "        except Exception as e:\n",
    "            print(f\"ERROR for {f}\")\n",
    "            print(e)\n"
   ]
  },
  {
   "cell_type": "code",
   "execution_count": null,
   "metadata": {},
   "outputs": [
    {
     "data": {
      "application/vnd.jupyter.widget-view+json": {
       "model_id": "cc39ac71942445c9ae5eac50104fe2ab",
       "version_major": 2,
       "version_minor": 0
      },
      "text/plain": [
       "Processing each document: 0it [00:00, ?it/s]"
      ]
     },
     "metadata": {},
     "output_type": "display_data"
    },
    {
     "data": {
      "application/vnd.jupyter.widget-view+json": {
       "model_id": "3a35d22e6ae44fab90e38514bf70f4e3",
       "version_major": 2,
       "version_minor": 0
      },
      "text/plain": [
       "Processing documents:   0%|          | 0/3 [00:00<?, ?it/s]"
      ]
     },
     "metadata": {},
     "output_type": "display_data"
    },
    {
     "data": {
      "application/vnd.jupyter.widget-view+json": {
       "model_id": "adf9b2ebaa0a44698644388210989f7f",
       "version_major": 2,
       "version_minor": 0
      },
      "text/plain": [
       "Streaming response characters: 0it [00:00, ?it/s]"
      ]
     },
     "metadata": {},
     "output_type": "display_data"
    },
    {
     "ename": "NameError",
     "evalue": "name 't' is not defined",
     "output_type": "error",
     "traceback": [
      "\u001b[0;31m---------------------------------------------------------------------------\u001b[0m",
      "\u001b[0;31mNameError\u001b[0m                                 Traceback (most recent call last)",
      "Cell \u001b[0;32mIn[18], line 26\u001b[0m\n\u001b[1;32m     24\u001b[0m         recipe_template[k] \u001b[38;5;241m=\u001b[39m recipe[k]\n\u001b[1;32m     25\u001b[0m recipe_template[\u001b[38;5;124m'\u001b[39m\u001b[38;5;124msource\u001b[39m\u001b[38;5;124m'\u001b[39m] \u001b[38;5;241m=\u001b[39m response[\u001b[38;5;124m'\u001b[39m\u001b[38;5;124msource\u001b[39m\u001b[38;5;124m'\u001b[39m]\n\u001b[0;32m---> 26\u001b[0m recipe_template[\u001b[38;5;124m'\u001b[39m\u001b[38;5;124mdoc_processing_time\u001b[39m\u001b[38;5;124m'\u001b[39m] \u001b[38;5;241m=\u001b[39m t\n\u001b[1;32m     27\u001b[0m recipe_template[\u001b[38;5;124m'\u001b[39m\u001b[38;5;124mtotal_response_chars\u001b[39m\u001b[38;5;124m'\u001b[39m] \u001b[38;5;241m=\u001b[39m \u001b[38;5;28mlen\u001b[39m(json\u001b[38;5;241m.\u001b[39mdumps(response))\n\u001b[1;32m     28\u001b[0m clean_recipes\u001b[38;5;241m.\u001b[39mappend(recipe_template)\n",
      "\u001b[0;31mNameError\u001b[0m: name 't' is not defined"
     ]
    }
   ],
   "source": [
    "model = \"gpt4o\"\n",
    "modal = \"visual\"\n",
    "author = \"hungyi\"\n",
    "ext = \"png\"\n",
    "indir = Path(\"../data/imgs/\")\n",
    "outfile = Path(f\"../results/{model}_{modal}_{author}.test.csv\")\n",
    "\n",
    "clean_recipes = []\n",
    "for x in get_responses(\n",
    "    model,\n",
    "    modal,\n",
    "    author,\n",
    "    keyfile=Path(\"../secrets.json\"),\n",
    "    indir=indir,\n",
    "    ext=ext,\n",
    "):\n",
    "    response = x['response']\n",
    "    timing = x['time']\n",
    "    if 'recipes' in response:\n",
    "            for recipe in response['recipes']:\n",
    "                recipe_template = {k:None for k in properties}\n",
    "                for k in recipe:\n",
    "                    if k in properties:\n",
    "                        recipe_template[k] = recipe[k]\n",
    "                recipe_template['source'] = response['source']\n",
    "                recipe_template['doc_processing_time'] = timing\n",
    "                recipe_template['total_response_chars'] = len(json.dumps(response))\n",
    "                clean_recipes.append(recipe_template)\n",
    "\n",
    "df = pd.DataFrame(clean_recipes)\n",
    "df.to_csv(f\"{outfile}.tmp\")\n",
    "\n",
    "clean = convert_df(df)\n",
    "clean.to_csv(outfile)"
   ]
  },
  {
   "cell_type": "code",
   "execution_count": null,
   "metadata": {},
   "outputs": [],
   "source": []
  }
 ],
 "metadata": {
  "kernelspec": {
   "display_name": "htmax",
   "language": "python",
   "name": "python3"
  },
  "language_info": {
   "codemirror_mode": {
    "name": "ipython",
    "version": 3
   },
   "file_extension": ".py",
   "mimetype": "text/x-python",
   "name": "python",
   "nbconvert_exporter": "python",
   "pygments_lexer": "ipython3",
   "version": "3.11.9"
  }
 },
 "nbformat": 4,
 "nbformat_minor": 2
}
